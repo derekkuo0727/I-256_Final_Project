{
 "metadata": {
  "name": "Evaluate_TFIDF"
 },
 "nbformat": 3,
 "nbformat_minor": 0,
 "worksheets": [
  {
   "cells": [
    {
     "cell_type": "code",
     "collapsed": false,
     "input": [
      "TOTAL_LOADING_LINE = 200000\n",
      "TRAINING_LINE_NUMBER = 100000\n",
      "TOP_KEYWORDS_FROM = 5\n",
      "TOP_KEYWORDS_TO = 10\n",
      "TOP_WORDS = 500\n",
      "\n",
      "\n",
      "TESTING_LINES_FROM = 120000\n",
      "TESTING_LINES_TO = 130000\n"
     ],
     "language": "python",
     "metadata": {},
     "outputs": []
    },
    {
     "cell_type": "code",
     "collapsed": false,
     "input": [
      "def testing(keyword,threshold, matches, line_from, line_to):\n",
      "    score_file = open(\"tfidf_\"+str(TRAINING_LINE_NUMBER)+\"_\"+str(TOP_KEYWORDS_FROM)+\"_\"+str(TOP_KEYWORDS_TO)+\"_\"+str(TOP_WORDS),\"r\")\n",
      "    score_table = {}\n",
      "\n",
      "    for line in score_file:\n",
      "        line = line.strip(\"\\n\")\n",
      "        line = line.split(\"\\t\")\n",
      "        if float(line[2]) > threshold: \n",
      "            if line[1] not in score_table:\n",
      "                score_table[line[1]] = [line[0]]\n",
      "            else:\n",
      "                score_table[line[1]].append(line[0])\n",
      "    prediction_table = []\n",
      "    for i in range(line_from,line_to):\n",
      "        text = data_cleaner(question_list[i])\n",
      "        key_word = {}\n",
      "        prediction = []\n",
      "        for word in text:\n",
      "            if word in score_table:\n",
      "                for j in range(len(score_table[word])):\n",
      "                    if score_table[word][j] not in key_word:\n",
      "                        key_word[score_table[word][j]] = 1\n",
      "                    else:\n",
      "                        key_word[score_table[word][j]] += 1\n",
      "        for key in key_word.keys():\n",
      "            if key_word[key] > matches:\n",
      "                prediction.append(key)\n",
      "        prediction_table.append(prediction)\n",
      "        \n",
      "    correct_guess = 0\n",
      "    total_key = 0\n",
      "    total_guess = 0\n",
      "    for i in range(line_from,line_to):\n",
      "        for guess in prediction_table[i-line_from]:\n",
      "            if guess == keyword:\n",
      "                total_guess +=1\n",
      "                if guess in keyword_list[i]:\n",
      "                    correct_guess +=1\n",
      "        for key in keyword_list[i].split(\" \"):\n",
      "            if key == keyword:\n",
      "                total_key +=1\n",
      "    if total_guess != 0 and total_key != 0 and correct_guess != 0:\n",
      "        return 2*(correct_guess/total_key)*(correct_guess/total_guess)/(correct_guess/total_key+correct_guess/total_guess)\n",
      "    else:\n",
      "        return 0"
     ],
     "language": "python",
     "metadata": {},
     "outputs": []
    },
    {
     "cell_type": "code",
     "collapsed": false,
     "input": [
      "best_score_table = {}\n",
      "\n",
      "for keys in fq.keys()[TOP_KEYWORD_FROM:TOP_KEYWORD_TO]:\n",
      "    f_score = 0\n",
      "    best_thres = 0\n",
      "    best_match = 0\n",
      "    for i in [float(j) / 10 for j in range(0, 50, 1)]:\n",
      "        for k in range(0,3):\n",
      "            temp = testing(keys,i,k,TESTING_LINES_FROM,TESTING_LINES_TO)\n",
      "            if f_score < temp:\n",
      "                best_thres = i\n",
      "                best_match = k\n",
      "                f_score = temp\n",
      "    print f_score\n",
      "    print best_thres\n",
      "    print best_match\n",
      "    best_score_table[keys] = [best_thres,best_match,f_score]\n",
      "    \n",
      "print best_score_table"
     ],
     "language": "python",
     "metadata": {},
     "outputs": []
    }
   ],
   "metadata": {}
  }
 ]
}