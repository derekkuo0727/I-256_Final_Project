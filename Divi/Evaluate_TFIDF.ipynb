{
 "metadata": {
  "name": "Evaluate_TFIDF"
 },
 "nbformat": 3,
 "nbformat_minor": 0,
 "worksheets": [
  {
   "cells": [
    {
     "cell_type": "code",
     "collapsed": false,
     "input": [
      "TOTAL_LOADING_LINE = 200000\n",
      "TRAINING_LINE_NUMBER = 1000\n",
      "TOP_KEYWORDS_FROM = 0\n",
      "TOP_KEYWORDS_TO = 5\n",
      "TOP_WORDS = 50\n",
      "\n",
      "\n",
      "TESTING_LINES_FROM = 120100\n",
      "TESTING_LINES_TO = 120200\n"
     ],
     "language": "python",
     "metadata": {},
     "outputs": [],
     "prompt_number": 21
    },
    {
     "cell_type": "code",
     "collapsed": false,
     "input": [
      "#\n",
      "# Load train set data\n",
      "#\n",
      "\n",
      "import csv\n",
      "import nltk\n",
      "from nltk import bigrams\n",
      "import time\n",
      "\n",
      "skip_first_line = True\n",
      "\n",
      "input_file = open(\"small_train.csv\",'r')\n",
      "reader = csv.reader( input_file )\n",
      "if skip_first_line:\n",
      "    reader.next()\n",
      "\n",
      "#id_list = []\n",
      "title_list = []\n",
      "question_list = []\n",
      "keyword_list = []\n",
      "\n",
      "i = 0\n",
      "\n",
      "for line in reader:\n",
      "#    id_list.append(line[0])\n",
      "    title_list.append(line[1])\n",
      "    question_list.append(line[2])\n",
      "    keyword_list.append(line[3])\n",
      "    i+=1\n",
      "    if i == TOTAL_LOADING_LINE:\n",
      "        break\n",
      "\n",
      "        \n",
      "#\n",
      "# Build keyword freq table\n",
      "#\n",
      "fq = nltk.FreqDist([keyword for keywords in keyword_list for keyword in keywords.split(\" \")])\n",
      "\n",
      "\n",
      "#\n",
      "# Data Cleaner\n",
      "#\n",
      "import re\n",
      "\n",
      "def data_cleaner(raw_text):\n",
      "    text = re.sub(\"<p>|</p>|<pre>|<code>|</pre>|</code>\", '', raw_text)\n",
      "    text = re.sub(\"\\n|[,!;?:/']\", ' ', text)\n",
      "    text = text.split(\" \")\n",
      "    li = []\n",
      "    for w in text:\n",
      "        w = w.lower()\n",
      "        if w != \"\":\n",
      "            if w[-1] == \".\":\n",
      "                w = w[:-1]\n",
      "            li.append(w)\n",
      "    return li\n",
      "\n",
      "\n",
      "#\n",
      "# Code extractor\n",
      "#\n",
      "\n",
      "def code_extractor(raw_text):\n",
      "    m = re.findall('<pre><code>(.+?)</code></pre>', raw_text, re.S)\n",
      "    return m\n"
     ],
     "language": "python",
     "metadata": {},
     "outputs": [],
     "prompt_number": 22
    },
    {
     "cell_type": "code",
     "collapsed": false,
     "input": [
      "from __future__ import division\n",
      "def testing(keyword,threshold, matches, line_from, line_to):\n",
      "    score_file = open(\"tfidf_\"+str(TRAINING_LINE_NUMBER)+\"_\"+str(TOP_KEYWORDS_FROM)+\"_\"+str(TOP_KEYWORDS_TO)+\"_\"+str(TOP_WORDS),\"r\")\n",
      "    score_table = {}\n",
      "\n",
      "    for line in score_file:\n",
      "        line = line.strip(\"\\n\")\n",
      "        line = line.split(\"\\t\")\n",
      "        if float(line[2]) > threshold: \n",
      "            if line[1] not in score_table:\n",
      "                score_table[line[1]] = [line[0]]\n",
      "            else:\n",
      "                score_table[line[1]].append(line[0])\n",
      "    prediction_table = []\n",
      "    for i in range(line_from,line_to):\n",
      "        text = data_cleaner(question_list[i])\n",
      "        key_word = {}\n",
      "        prediction = []\n",
      "        for word in text:\n",
      "            if word in score_table:\n",
      "                for j in range(len(score_table[word])):\n",
      "                    if score_table[word][j] not in key_word:\n",
      "                        key_word[score_table[word][j]] = 1\n",
      "                    else:\n",
      "                        key_word[score_table[word][j]] += 1\n",
      "        for key in key_word.keys():\n",
      "            if key_word[key] > matches:\n",
      "                prediction.append(key)\n",
      "        prediction_table.append(prediction)\n",
      "        \n",
      "    correct_guess = 0\n",
      "    total_key = 0\n",
      "    total_guess = 0\n",
      "    for i in range(line_from,line_to):\n",
      "        for guess in prediction_table[i-line_from]:\n",
      "            if guess == keyword:\n",
      "                total_guess +=1\n",
      "                if guess in keyword_list[i]:\n",
      "                    correct_guess +=1\n",
      "        for key in keyword_list[i].split(\" \"):\n",
      "            if key == keyword:\n",
      "                total_key +=1\n",
      "    if total_guess != 0 and total_key != 0 and correct_guess != 0:\n",
      "        return 2*(correct_guess/total_key)*(correct_guess/total_guess)/(correct_guess/total_key+correct_guess/total_guess)\n",
      "    else:\n",
      "        return 0"
     ],
     "language": "python",
     "metadata": {},
     "outputs": [],
     "prompt_number": 23
    },
    {
     "cell_type": "code",
     "collapsed": false,
     "input": [
      "best_score_table = {}\n",
      "\n",
      "for keys in fq.keys()[TOP_KEYWORDS_FROM:TOP_KEYWORDS_TO]:\n",
      "    f_score = 0\n",
      "    best_thres = 0\n",
      "    best_match = 0\n",
      "    for i in [float(j) / 10 for j in range(0, 50, 1)]:\n",
      "        for k in range(0,3):\n",
      "            temp = testing(keys,i,k,TESTING_LINES_FROM,TESTING_LINES_TO)\n",
      "            if f_score < temp:\n",
      "                best_thres = i\n",
      "                best_match = k\n",
      "                f_score = temp\n",
      "    print f_score\n",
      "    print best_thres\n",
      "    print best_match\n",
      "    best_score_table[keys] = [best_thres,best_match,f_score]\n",
      "    \n",
      "print best_score_table"
     ],
     "language": "python",
     "metadata": {},
     "outputs": [
      {
       "output_type": "stream",
       "stream": "stdout",
       "text": [
        "0.555555555556\n",
        "0.7\n",
        "0\n",
        "0.6"
       ]
      },
      {
       "output_type": "stream",
       "stream": "stdout",
       "text": [
        "\n",
        "2.2\n",
        "0\n",
        "0.5"
       ]
      },
      {
       "output_type": "stream",
       "stream": "stdout",
       "text": [
        "\n",
        "2.1\n",
        "2\n",
        "0.333333333333"
       ]
      },
      {
       "output_type": "stream",
       "stream": "stdout",
       "text": [
        "\n",
        "0.8\n",
        "2\n",
        "0.4"
       ]
      },
      {
       "output_type": "stream",
       "stream": "stdout",
       "text": [
        "\n",
        "1.3\n",
        "0\n",
        "{'c#': [0.7, 0, 0.5555555555555556], 'android': [1.3, 0, 0.4000000000000001], 'php': [2.1, 2, 0.5], 'java': [2.2, 0, 0.6], 'javascript': [0.8, 2, 0.3333333333333333]}\n"
       ]
      }
     ],
     "prompt_number": 24
    },
    {
     "cell_type": "code",
     "collapsed": false,
     "input": [],
     "language": "python",
     "metadata": {},
     "outputs": []
    }
   ],
   "metadata": {}
  }
 ]
}