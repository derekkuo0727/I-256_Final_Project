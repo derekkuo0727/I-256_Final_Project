{
 "metadata": {
  "name": ""
 },
 "nbformat": 3,
 "nbformat_minor": 0,
 "worksheets": [
  {
   "cells": [
    {
     "cell_type": "code",
     "collapsed": false,
     "input": [
      "import numpy as np\n",
      "from sklearn.pipeline import Pipeline\n",
      "from sklearn.feature_extraction.text import CountVectorizer\n",
      "from sklearn.svm import LinearSVC\n",
      "from sklearn.feature_extraction.text import TfidfTransformer\n",
      "from sklearn.multiclass import OneVsRestClassifier, LabelBinarizer\n",
      "\n",
      "X_train = np.array([\"new york is a hell of a town\",\n",
      "                    \"new york was originally dutch\",\n",
      "                    \"the big apple is great\",\n",
      "                    \"new york is also called the big apple\",\n",
      "                    \"nyc is nice\",\n",
      "                    \"people abbreviate new york city as nyc\",\n",
      "                    \"the capital of great britain is london\",\n",
      "                    \"london is in the uk\",\n",
      "                    \"london is in england\",\n",
      "                    \"london is in great britain\",\n",
      "                    \"it rains a lot in london\",\n",
      "                    \"london hosts the british museum\",\n",
      "                    \"new york is great and so is london\",\n",
      "                    \"i like london better than new york\"])\n",
      "y_train_text = [\n",
      "    [\"new york\"], [\"new york\"], [\"new york\"], [\"new york\"], [\"new york\"],\n",
      "    [\"new york\"], [\"london\"], [\"london\"], [\"london\"], [\"london\"],\n",
      "    [\"london\"], [\"london\"], [\"new york\", \"london\"], [\"new york\", \"london\"]]\n",
      "\n",
      "X_test = np.array(['nice day in nyc',\n",
      "                   'welcome to london',\n",
      "                   'london is rainy',\n",
      "                   'it is raining in britian',\n",
      "                   'it is raining in britian and the big apple',\n",
      "                   'it is raining in britian and nyc',\n",
      "                   'hello welcome to new york. enjoy it here and london too'])\n",
      "target_names = ['New York', 'London']\n",
      "\n",
      "print \"X_train\\n\", X_train\n",
      "print \"X_test\\n\", X_test\n",
      "print \"y_train\\n\", y_train_text\n",
      "# print \"y_test\\n\", y_test\n",
      "\n",
      "lb = LabelBinarizer()\n",
      "Y = lb.fit_transform(y_train_text)\n",
      "\n",
      "classifier = Pipeline([\n",
      "    ('vectorizer', CountVectorizer()),\n",
      "    ('tfidf', TfidfTransformer()),\n",
      "    ('clf', OneVsRestClassifier(LinearSVC()))])\n",
      "\n",
      "classifier.fit(X_train, Y)\n",
      "predicted = classifier.predict(X_test)\n",
      "all_labels = lb.inverse_transform(predicted)\n",
      "\n",
      "for item, labels in zip(X_test, all_labels):\n",
      "    print '%s => %s' % (item, ', '.join(labels))\n"
     ],
     "language": "python",
     "metadata": {},
     "outputs": [
      {
       "output_type": "stream",
       "stream": "stdout",
       "text": [
        "X_train\n",
        "['new york is a hell of a town' 'new york was originally dutch'\n",
        " 'the big apple is great' 'new york is also called the big apple'\n",
        " 'nyc is nice' 'people abbreviate new york city as nyc'\n",
        " 'the capital of great britain is london' 'london is in the uk'\n",
        " 'london is in england' 'london is in great britain'\n",
        " 'it rains a lot in london' 'london hosts the british museum'\n",
        " 'new york is great and so is london' 'i like london better than new york']\n",
        "X_test\n",
        "['nice day in nyc' 'welcome to london' 'london is rainy'\n",
        " 'it is raining in britian' 'it is raining in britian and the big apple'\n",
        " 'it is raining in britian and nyc'\n",
        " 'hello welcome to new york. enjoy it here and london too']\n",
        "y_train\n",
        "[['new york'], ['new york'], ['new york'], ['new york'], ['new york'], ['new york'], ['london'], ['london'], ['london'], ['london'], ['london'], ['london'], ['new york', 'london'], ['new york', 'london']]\n",
        "nice day in nyc => new york\n",
        "welcome to london => london\n",
        "london is rainy => london\n",
        "it is raining in britian => london\n",
        "it is raining in britian and the big apple => new york\n",
        "it is raining in britian and nyc => london, new york\n",
        "hello welcome to new york. enjoy it here and london too => london, new york\n"
       ]
      }
     ],
     "prompt_number": 3
    },
    {
     "cell_type": "code",
     "collapsed": false,
     "input": [
      "y_train_text = [\n",
      "    [\"new york\"], [\"new york\"], [\"new york\"], [\"new york\"], [\"new york\"],\n",
      "    [\"new york\"], [\"london\"], [\"london\"], [\"london\"], [\"london\"],\n",
      "    [\"london\"], [\"london\"], [\"new york\", \"london\"], [\"new york\", \"london\"]]\n",
      "print y_train_text[12][1],type(y_train_text[12][0])"
     ],
     "language": "python",
     "metadata": {},
     "outputs": [
      {
       "output_type": "stream",
       "stream": "stdout",
       "text": [
        "london <type 'str'>\n"
       ]
      }
     ],
     "prompt_number": 10
    },
    {
     "cell_type": "code",
     "collapsed": false,
     "input": [
      "import numpy as np\n",
      "from sklearn.pipeline import Pipeline\n",
      "from sklearn.feature_extraction.text import CountVectorizer\n",
      "from sklearn.svm import LinearSVC\n",
      "from sklearn.feature_extraction.text import TfidfTransformer\n",
      "from sklearn.multiclass import OneVsRestClassifier, LabelBinarizer\n",
      "import csv\n",
      "import nltk\n",
      "import logging\n",
      "\n",
      "id_list = []\n",
      "title_list = []\n",
      "question_list = []\n",
      "keyword_list = []\n",
      "\n",
      "test_id_list = []\n",
      "test_title_list = []\n",
      "test_question_list = []\n",
      "test_keyword_list = []\n",
      "\n",
      "train_file_path = 'C:\\\\Users\\\\Divyakumar\\\\Documents\\\\GitHub\\\\I-256_Final_Project\\\\Divi\\\\train_100.csv'\n",
      "test_file_path = 'C:\\\\Users\\\\Divyakumar\\\\Documents\\\\GitHub\\\\I-256_Final_Project\\\\Divi\\\\train_100.csv'\n",
      "num_of_questions = 4\n",
      "\n",
      "with open(train_file_path, 'r') as f:\n",
      "    reader = csv.reader(f)\n",
      "    for i in range(num_of_questions + 1):\n",
      "        line = reader.next()\n",
      "        id_list.append(line[0])\n",
      "        title_list.append(line[1])\n",
      "        question_list.append(line[2])\n",
      "        keyword_list.append(line[3])\n",
      "\n",
      "X_train = np.array(title_list)\n",
      "y_train = str(keyword_list).split()\n",
      "\n",
      "X_test = np.array(title_list)\n",
      "target_names = str(keyword_list).split()\n",
      "\n",
      "# print \"X_train\\n\", X_train[:10]\n",
      "# print \"X_test\\n\", X_test[:10]\n",
      "# print \"y_train\\n\", y_train[:10]\n",
      "# print \"y_test\\n\", y_test\n",
      "\n"
     ],
     "language": "python",
     "metadata": {},
     "outputs": [],
     "prompt_number": 99
    },
    {
     "cell_type": "code",
     "collapsed": false,
     "input": [
      "print y_train_text,y_train_text[12],type(y_train_text)\n",
      "print\n",
      "# print str(keyword_list).split(' '),str(keyword_list[1]).split(' '),type(keyword_list)\n",
      "\n",
      "st= ('php image-processing file-upload upload mime-types')\n",
      "# print str(keyword_list)\n",
      "# print eval(str(keyword_list))\n",
      "\n",
      "y=[]\n",
      "for i in keyword_list:\n",
      "    y.append([x for x in str(i).split()])\n",
      "print y\n",
      "\n",
      "# print [x.split() for x in str(st).split()] "
     ],
     "language": "python",
     "metadata": {},
     "outputs": [
      {
       "output_type": "stream",
       "stream": "stdout",
       "text": [
        "[['new york'], ['new york'], ['new york'], ['new york'], ['new york'], ['new york'], ['london'], ['london'], ['london'], ['london'], ['london'], ['london'], ['new york', 'london'], ['new york', 'london']] ['new york', 'london'] <type 'list'>\n",
        "\n",
        "[['Tags'], ['php', 'image-processing', 'file-upload', 'upload', 'mime-types'], ['firefox'], ['r', 'matlab', 'machine-learning'], ['c#', 'url', 'encoding']]\n"
       ]
      }
     ],
     "prompt_number": 115
    }
   ],
   "metadata": {}
  }
 ]
}