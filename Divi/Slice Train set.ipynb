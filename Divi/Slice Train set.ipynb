{
 "metadata": {
  "name": ""
 },
 "nbformat": 3,
 "nbformat_minor": 0,
 "worksheets": [
  {
   "cells": [
    {
     "cell_type": "code",
     "collapsed": false,
     "input": [
      "#\n",
      "# Slice a small training set\n",
      "# \n",
      "\n",
      "\n",
      "import csv\n",
      "\n",
      "input_file = open(\"C:\\NLP_Data\\Train\\Train.csv\",'r')\n",
      "output_file = open(\"C:\\NLP_Data\\Train\\small_train.csv\",\"w\")\n",
      "reader = csv.reader( input_file )\n",
      "\n",
      "i = 0\n",
      "\n",
      "for line in reader:\n",
      "    a = csv.writer(output_file, delimiter=',')\n",
      "    a.writerow(line)\n",
      "    i += 1\n",
      "    if i > 1000005:\n",
      "        break"
     ],
     "language": "python",
     "metadata": {},
     "outputs": [],
     "prompt_number": 1
    }
   ],
   "metadata": {}
  }
 ]
}